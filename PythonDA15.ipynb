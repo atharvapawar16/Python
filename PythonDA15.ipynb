{
 "cells": [
  {
   "cell_type": "code",
   "execution_count": null,
   "id": "a7e2a7e6-4d55-4b4b-a067-dae3dbf484c6",
   "metadata": {},
   "outputs": [],
   "source": []
  },
  {
   "cell_type": "code",
   "execution_count": 1,
   "id": "766d0412-d174-4b02-b45a-910f43d82016",
   "metadata": {},
   "outputs": [
    {
     "name": "stdout",
     "output_type": "stream",
     "text": [
      "hello wolrd \n"
     ]
    }
   ],
   "source": [
    "print(\"hello wolrd \")"
   ]
  },
  {
   "cell_type": "code",
   "execution_count": 1,
   "id": "1b27f34a-1ecc-4f1f-a771-5409668c6bd0",
   "metadata": {},
   "outputs": [],
   "source": [
    "name = \"Atharva\" "
   ]
  },
  {
   "cell_type": "code",
   "execution_count": 2,
   "id": "65ded9e9-7962-4d53-902e-cb2d0d11e3a0",
   "metadata": {},
   "outputs": [
    {
     "name": "stdout",
     "output_type": "stream",
     "text": [
      "Atharva\n"
     ]
    }
   ],
   "source": [
    "print(name)"
   ]
  },
  {
   "cell_type": "code",
   "execution_count": 3,
   "id": "d6b4d0f8-23fd-4d8f-83f7-d527b3971260",
   "metadata": {},
   "outputs": [],
   "source": [
    "A = 12 "
   ]
  },
  {
   "cell_type": "code",
   "execution_count": 5,
   "id": "d8c9b1fc-75ba-4070-ad30-f747b836fb2d",
   "metadata": {},
   "outputs": [
    {
     "data": {
      "text/plain": [
       "int"
      ]
     },
     "execution_count": 5,
     "metadata": {},
     "output_type": "execute_result"
    }
   ],
   "source": [
    "type(A)"
   ]
  },
  {
   "cell_type": "code",
   "execution_count": 6,
   "id": "83a1bbbe-eac4-4307-bf66-7f4e1f366eee",
   "metadata": {},
   "outputs": [],
   "source": [
    "a = b = c = 5"
   ]
  },
  {
   "cell_type": "code",
   "execution_count": 7,
   "id": "b8ab0d32-8b43-420d-a478-a7abcbd84931",
   "metadata": {},
   "outputs": [
    {
     "name": "stdout",
     "output_type": "stream",
     "text": [
      "5\n",
      "5\n",
      "5\n"
     ]
    }
   ],
   "source": [
    "print(a)\n",
    "print(b)\n",
    "print(c)"
   ]
  },
  {
   "cell_type": "code",
   "execution_count": 8,
   "id": "dfc7441c-257b-476b-a732-361b4d3b8c7b",
   "metadata": {},
   "outputs": [],
   "source": [
    "x=y=z= \"Atharva\" , 66 , \"pawar\""
   ]
  },
  {
   "cell_type": "code",
   "execution_count": 9,
   "id": "11d91607-8a51-49f7-8991-b8c2e4d68696",
   "metadata": {},
   "outputs": [
    {
     "name": "stdout",
     "output_type": "stream",
     "text": [
      "('Atharva', 66, 'pawar')\n",
      "('Atharva', 66, 'pawar')\n",
      "('Atharva', 66, 'pawar')\n"
     ]
    }
   ],
   "source": [
    "print(x)\n",
    "print(y)\n",
    "print(z)"
   ]
  },
  {
   "cell_type": "code",
   "execution_count": 10,
   "id": "09b09ac6-8386-438c-90fe-f27daed0b759",
   "metadata": {},
   "outputs": [
    {
     "ename": "SyntaxError",
     "evalue": "invalid decimal literal (1312018264.py, line 1)",
     "output_type": "error",
     "traceback": [
      "\u001b[1;36m  Cell \u001b[1;32mIn[10], line 1\u001b[1;36m\u001b[0m\n\u001b[1;33m    123total = 11111\u001b[0m\n\u001b[1;37m      ^\u001b[0m\n\u001b[1;31mSyntaxError\u001b[0m\u001b[1;31m:\u001b[0m invalid decimal literal\n"
     ]
    }
   ],
   "source": [
    "123total = 11111 "
   ]
  },
  {
   "cell_type": "code",
   "execution_count": 11,
   "id": "c8613400-7304-49c8-9c5b-7bf7676b4c4d",
   "metadata": {},
   "outputs": [],
   "source": [
    "total123 = 1111"
   ]
  },
  {
   "cell_type": "code",
   "execution_count": 12,
   "id": "e0a1599a-61b6-4d45-8304-7345474d889c",
   "metadata": {},
   "outputs": [
    {
     "name": "stdout",
     "output_type": "stream",
     "text": [
      "1111\n"
     ]
    }
   ],
   "source": [
    "print(total123)"
   ]
  },
  {
   "cell_type": "code",
   "execution_count": 13,
   "id": "b7c67297-42d8-4343-bdbf-1e4686ef557d",
   "metadata": {},
   "outputs": [],
   "source": [
    "_e_f_g = \"Abcd\""
   ]
  },
  {
   "cell_type": "code",
   "execution_count": 14,
   "id": "ccf5b218-80d3-485f-967e-22bdd727a9f8",
   "metadata": {},
   "outputs": [
    {
     "name": "stdout",
     "output_type": "stream",
     "text": [
      "Abcd\n"
     ]
    }
   ],
   "source": [
    "print(_e_f_g)"
   ]
  },
  {
   "cell_type": "code",
   "execution_count": 15,
   "id": "56c2babb-7609-42a2-bd28-6b0e702187cb",
   "metadata": {},
   "outputs": [],
   "source": [
    "_ = \"Atharva\""
   ]
  },
  {
   "cell_type": "code",
   "execution_count": 16,
   "id": "c001ca5e-a35b-4b5b-a745-6e6337075815",
   "metadata": {},
   "outputs": [
    {
     "name": "stdout",
     "output_type": "stream",
     "text": [
      "Atharva\n"
     ]
    }
   ],
   "source": [
    "print(_)"
   ]
  },
  {
   "cell_type": "code",
   "execution_count": 17,
   "id": "e35c0997-5dce-4765-8ad4-e886c840a690",
   "metadata": {},
   "outputs": [
    {
     "ename": "SyntaxError",
     "evalue": "invalid syntax (4279904368.py, line 1)",
     "output_type": "error",
     "traceback": [
      "\u001b[1;36m  Cell \u001b[1;32mIn[17], line 1\u001b[1;36m\u001b[0m\n\u001b[1;33m    if = \"Atharva\"\u001b[0m\n\u001b[1;37m       ^\u001b[0m\n\u001b[1;31mSyntaxError\u001b[0m\u001b[1;31m:\u001b[0m invalid syntax\n"
     ]
    }
   ],
   "source": [
    "if = \"Atharva\""
   ]
  },
  {
   "cell_type": "code",
   "execution_count": 18,
   "id": "1bbff24b-98a8-4152-b9ed-1c31f539e594",
   "metadata": {},
   "outputs": [],
   "source": [
    "x , y, z = \"Atharva\" , 33, \"Pawar \""
   ]
  },
  {
   "cell_type": "code",
   "execution_count": 19,
   "id": "eafea829-0b21-49e2-b1de-bf69cc943ed0",
   "metadata": {},
   "outputs": [
    {
     "name": "stdout",
     "output_type": "stream",
     "text": [
      "Atharva\n",
      "33\n",
      "Pawar \n"
     ]
    }
   ],
   "source": [
    "print(x)\n",
    "print(y)\n",
    "print(z)"
   ]
  },
  {
   "cell_type": "code",
   "execution_count": 1,
   "id": "0eaa774b-7de4-4d01-9f8d-0c4a8ee85fbd",
   "metadata": {},
   "outputs": [],
   "source": [
    "a = 55"
   ]
  },
  {
   "cell_type": "code",
   "execution_count": 2,
   "id": "bcaaaaf3-765f-4689-9bb2-2a8a5074cd92",
   "metadata": {},
   "outputs": [
    {
     "name": "stdout",
     "output_type": "stream",
     "text": [
      "55\n"
     ]
    }
   ],
   "source": [
    "print(a)"
   ]
  },
  {
   "cell_type": "code",
   "execution_count": 3,
   "id": "7064333f-5f3c-47a2-b76f-b3a1486aa5d4",
   "metadata": {},
   "outputs": [],
   "source": [
    "del(a)"
   ]
  },
  {
   "cell_type": "code",
   "execution_count": 4,
   "id": "a4591b7d-7316-4797-b2fb-820257e14542",
   "metadata": {},
   "outputs": [
    {
     "ename": "NameError",
     "evalue": "name 'a' is not defined",
     "output_type": "error",
     "traceback": [
      "\u001b[1;31m---------------------------------------------------------------------------\u001b[0m",
      "\u001b[1;31mNameError\u001b[0m                                 Traceback (most recent call last)",
      "Cell \u001b[1;32mIn[4], line 1\u001b[0m\n\u001b[1;32m----> 1\u001b[0m \u001b[38;5;28mprint\u001b[39m(\u001b[43ma\u001b[49m)\n",
      "\u001b[1;31mNameError\u001b[0m: name 'a' is not defined"
     ]
    }
   ],
   "source": [
    "print(a)"
   ]
  },
  {
   "cell_type": "code",
   "execution_count": 5,
   "id": "b2d651c9-702f-4044-839a-a1d7dfe0c885",
   "metadata": {},
   "outputs": [],
   "source": [
    "a,b,c = 1,2,4"
   ]
  },
  {
   "cell_type": "code",
   "execution_count": 6,
   "id": "021c9f92-4223-4d4a-bd4f-f11a718fd745",
   "metadata": {},
   "outputs": [
    {
     "name": "stdout",
     "output_type": "stream",
     "text": [
      "1 2 4\n"
     ]
    }
   ],
   "source": [
    "print(a,b,c)"
   ]
  },
  {
   "cell_type": "code",
   "execution_count": 7,
   "id": "214c403c-ebea-4f31-9c15-321f2395b497",
   "metadata": {},
   "outputs": [],
   "source": [
    "del a , b ,c "
   ]
  },
  {
   "cell_type": "code",
   "execution_count": 8,
   "id": "924df690-e929-47ec-84ad-b269e3ee22de",
   "metadata": {},
   "outputs": [
    {
     "ename": "SyntaxError",
     "evalue": "Missing parentheses in call to 'print'. Did you mean print(...)? (2692603907.py, line 1)",
     "output_type": "error",
     "traceback": [
      "\u001b[1;36m  Cell \u001b[1;32mIn[8], line 1\u001b[1;36m\u001b[0m\n\u001b[1;33m    print a , b ,c\u001b[0m\n\u001b[1;37m    ^\u001b[0m\n\u001b[1;31mSyntaxError\u001b[0m\u001b[1;31m:\u001b[0m Missing parentheses in call to 'print'. Did you mean print(...)?\n"
     ]
    }
   ],
   "source": [
    "print a , b ,c "
   ]
  },
  {
   "cell_type": "code",
   "execution_count": 9,
   "id": "dab2e4eb-fc4c-4e7e-9a85-5dc727522d18",
   "metadata": {},
   "outputs": [
    {
     "ename": "NameError",
     "evalue": "name 'a' is not defined",
     "output_type": "error",
     "traceback": [
      "\u001b[1;31m---------------------------------------------------------------------------\u001b[0m",
      "\u001b[1;31mNameError\u001b[0m                                 Traceback (most recent call last)",
      "Cell \u001b[1;32mIn[9], line 1\u001b[0m\n\u001b[1;32m----> 1\u001b[0m \u001b[38;5;28mprint\u001b[39m(\u001b[43ma\u001b[49m,b,c)\n",
      "\u001b[1;31mNameError\u001b[0m: name 'a' is not defined"
     ]
    }
   ],
   "source": [
    "print(a,b,c)"
   ]
  },
  {
   "cell_type": "code",
   "execution_count": 10,
   "id": "553e263e-de78-43d3-b71e-aab3ebf74756",
   "metadata": {},
   "outputs": [],
   "source": [
    "x = 4+5 "
   ]
  },
  {
   "cell_type": "code",
   "execution_count": 11,
   "id": "ebf68d68-0f14-4e57-b3e9-8e060842ce51",
   "metadata": {},
   "outputs": [
    {
     "name": "stdout",
     "output_type": "stream",
     "text": [
      "9\n"
     ]
    }
   ],
   "source": [
    "print(x)"
   ]
  },
  {
   "cell_type": "code",
   "execution_count": 12,
   "id": "91de66a2-7c43-4933-9efd-280c5688bb82",
   "metadata": {},
   "outputs": [],
   "source": [
    "y = 5-3 "
   ]
  },
  {
   "cell_type": "code",
   "execution_count": 13,
   "id": "3b375962-c497-409a-9a97-ddb10771e10a",
   "metadata": {},
   "outputs": [
    {
     "name": "stdout",
     "output_type": "stream",
     "text": [
      "2\n"
     ]
    }
   ],
   "source": [
    "print(y)"
   ]
  },
  {
   "cell_type": "code",
   "execution_count": 14,
   "id": "289ecc22-547e-4e9a-b905-7d7f32abfbc2",
   "metadata": {},
   "outputs": [],
   "source": [
    "z = 6 // 3 "
   ]
  },
  {
   "cell_type": "code",
   "execution_count": 15,
   "id": "95b41d8b-7b93-40d0-acc7-36d96f5094d6",
   "metadata": {},
   "outputs": [
    {
     "name": "stdout",
     "output_type": "stream",
     "text": [
      "2\n"
     ]
    }
   ],
   "source": [
    "print(z)"
   ]
  },
  {
   "cell_type": "code",
   "execution_count": 17,
   "id": "ea170792-48ad-4fb0-9b67-0a51cf185773",
   "metadata": {},
   "outputs": [],
   "source": [
    "a = 3 ** 2  "
   ]
  },
  {
   "cell_type": "code",
   "execution_count": 18,
   "id": "2a0e0f00-2b5d-4b1c-a903-0e2787f39cc8",
   "metadata": {},
   "outputs": [
    {
     "name": "stdout",
     "output_type": "stream",
     "text": [
      "9\n"
     ]
    }
   ],
   "source": [
    "print(a)"
   ]
  },
  {
   "cell_type": "code",
   "execution_count": 19,
   "id": "babc9c98-31d6-49cd-a2f4-03131e082f3f",
   "metadata": {},
   "outputs": [
    {
     "data": {
      "text/plain": [
       "67.5"
      ]
     },
     "execution_count": 19,
     "metadata": {},
     "output_type": "execute_result"
    }
   ],
   "source": [
    "135/2"
   ]
  },
  {
   "cell_type": "code",
   "execution_count": 20,
   "id": "c3b643e8-7732-44a6-a80d-2d0c312cbfd6",
   "metadata": {},
   "outputs": [
    {
     "data": {
      "text/plain": [
       "4"
      ]
     },
     "execution_count": 20,
     "metadata": {},
     "output_type": "execute_result"
    }
   ],
   "source": [
    "9//2"
   ]
  },
  {
   "cell_type": "code",
   "execution_count": 21,
   "id": "843593ef-2afe-4636-92a9-937d6a2bb781",
   "metadata": {},
   "outputs": [
    {
     "data": {
      "text/plain": [
       "180"
      ]
     },
     "execution_count": 21,
     "metadata": {},
     "output_type": "execute_result"
    }
   ],
   "source": [
    "45*4"
   ]
  },
  {
   "cell_type": "code",
   "execution_count": 22,
   "id": "83530986-c0b5-4dd3-9660-fbc20b58c8ef",
   "metadata": {},
   "outputs": [
    {
     "data": {
      "text/plain": [
       "4.5"
      ]
     },
     "execution_count": 22,
     "metadata": {},
     "output_type": "execute_result"
    }
   ],
   "source": [
    "9/2"
   ]
  },
  {
   "cell_type": "code",
   "execution_count": 23,
   "id": "7b987182-c161-4cc2-bb79-b64b19d8ddd3",
   "metadata": {},
   "outputs": [
    {
     "data": {
      "text/plain": [
       "202.5"
      ]
     },
     "execution_count": 23,
     "metadata": {},
     "output_type": "execute_result"
    }
   ],
   "source": [
    "4.5*45"
   ]
  },
  {
   "cell_type": "code",
   "execution_count": 1,
   "id": "d84a7523-6be2-4df8-9b28-56a03bfdf58f",
   "metadata": {},
   "outputs": [
    {
     "name": "stdin",
     "output_type": "stream",
     "text": [
      "Enter the first number:  11\n",
      "Enter the second number:  22\n"
     ]
    },
    {
     "name": "stdout",
     "output_type": "stream",
     "text": [
      "The sum of 11.0 and 22.0 is 33.0\n"
     ]
    }
   ],
   "source": [
    "# Get input from the user\n",
    "num1 = float(input(\"Enter the first number: \"))\n",
    "num2 = float(input(\"Enter the second number: \"))\n",
    "\n",
    "# Calculate the sum\n",
    "sum = num1 + num2\n",
    "\n",
    "# Print the result\n",
    "print(\"The sum of\", num1, \"and\", num2, \"is\", sum)"
   ]
  },
  {
   "cell_type": "code",
   "execution_count": 4,
   "id": "641e5023-12f4-47b3-bea1-67ae8df9e52b",
   "metadata": {},
   "outputs": [
    {
     "name": "stdin",
     "output_type": "stream",
     "text": [
      "Enter the first number:  11\n",
      "Enter the second number:  22\n"
     ]
    },
    {
     "name": "stdout",
     "output_type": "stream",
     "text": [
      "33\n"
     ]
    }
   ],
   "source": [
    "num1 = int(input(\"Enter the first number: \"))\n",
    "num2 = int(input(\"Enter the second number: \"))\n",
    "print(num1 + num2)"
   ]
  },
  {
   "cell_type": "code",
   "execution_count": 5,
   "id": "f610c004-f4d5-41ff-9097-20a08413fbe5",
   "metadata": {},
   "outputs": [
    {
     "name": "stdin",
     "output_type": "stream",
     "text": [
      "Enter the first number:  22\n",
      "Enter the second number:  11\n"
     ]
    },
    {
     "name": "stdout",
     "output_type": "stream",
     "text": [
      "11\n"
     ]
    }
   ],
   "source": [
    "num1 = int(input(\"Enter the first number: \"))\n",
    "num2 = int(input(\"Enter the second number: \"))\n",
    "print(num1 - num2)"
   ]
  },
  {
   "cell_type": "code",
   "execution_count": 6,
   "id": "aa516c2e-3c15-49d8-a0e5-38c7715c2669",
   "metadata": {},
   "outputs": [
    {
     "name": "stdin",
     "output_type": "stream",
     "text": [
      "Enter the first number:  5\n",
      "Enter the second number:  6\n"
     ]
    },
    {
     "name": "stdout",
     "output_type": "stream",
     "text": [
      "30\n"
     ]
    }
   ],
   "source": [
    "num1 = int(input(\"Enter the first number: \"))\n",
    "num2 = int(input(\"Enter the second number: \"))\n",
    "print(num1 * num2)"
   ]
  },
  {
   "cell_type": "code",
   "execution_count": 7,
   "id": "07f2a1ad-a55b-4f82-9e8d-e9790fdf709f",
   "metadata": {},
   "outputs": [
    {
     "name": "stdin",
     "output_type": "stream",
     "text": [
      "Enter the first number:  10\n",
      "Enter the second number:  5\n"
     ]
    },
    {
     "name": "stdout",
     "output_type": "stream",
     "text": [
      "2\n"
     ]
    }
   ],
   "source": [
    "num1 = int(input(\"Enter the first number: \"))\n",
    "num2 = int(input(\"Enter the second number: \"))\n",
    "print(num1 // num2)"
   ]
  },
  {
   "cell_type": "code",
   "execution_count": 8,
   "id": "180ef874-a418-4cd7-abbe-04edd05861bc",
   "metadata": {},
   "outputs": [
    {
     "name": "stdin",
     "output_type": "stream",
     "text": [
      "Enter the first number:  2\n",
      "Enter the second number:  3\n"
     ]
    },
    {
     "name": "stdout",
     "output_type": "stream",
     "text": [
      "8\n"
     ]
    }
   ],
   "source": [
    "num1 = int(input(\"Enter the first number: \"))\n",
    "num2 = int(input(\"Enter the second number: \"))\n",
    "print(num1 ** num2)"
   ]
  },
  {
   "cell_type": "code",
   "execution_count": 7,
   "id": "6ece8e61-76af-4962-8a59-2bfa4f73d6cb",
   "metadata": {},
   "outputs": [
    {
     "name": "stdin",
     "output_type": "stream",
     "text": [
      "enter the number  3\n"
     ]
    },
    {
     "name": "stdout",
     "output_type": "stream",
     "text": [
      "This line will always execute 6\n"
     ]
    }
   ],
   "source": [
    "x=int(input(\"enter the number \"))\n",
    "if x > 5: \n",
    "    print(\"x is greater than 5\") \n",
    "else:\n",
    "    y = x * 2 \n",
    "print(\"This line will always execute\", y)"
   ]
  },
  {
   "cell_type": "code",
   "execution_count": 1,
   "id": "370e1b43-26c1-4181-9c72-11d679297560",
   "metadata": {},
   "outputs": [],
   "source": [
    "list ={1,\"hello\" , 3.44 , 555}"
   ]
  },
  {
   "cell_type": "code",
   "execution_count": 2,
   "id": "b60c4455-ab8d-4342-8761-eee560cdb001",
   "metadata": {},
   "outputs": [
    {
     "name": "stdout",
     "output_type": "stream",
     "text": [
      "{1, 3.44, 'hello', 555}\n"
     ]
    }
   ],
   "source": [
    "print(list)"
   ]
  },
  {
   "cell_type": "code",
   "execution_count": 3,
   "id": "42c8026a-a442-431c-bafd-db9da86e13b0",
   "metadata": {},
   "outputs": [],
   "source": [
    "set = { 1,2,3,3,4,5,5,5,6}"
   ]
  },
  {
   "cell_type": "code",
   "execution_count": 4,
   "id": "92e31241-42fd-4ef1-a45f-84c6e505bc17",
   "metadata": {},
   "outputs": [
    {
     "name": "stdout",
     "output_type": "stream",
     "text": [
      "{1, 2, 3, 4, 5, 6}\n"
     ]
    }
   ],
   "source": [
    "print(set)"
   ]
  },
  {
   "cell_type": "code",
   "execution_count": 5,
   "id": "832356d8-a974-47f4-83a1-e16dce127ef7",
   "metadata": {},
   "outputs": [
    {
     "ename": "TypeError",
     "evalue": "'set' object does not support item assignment",
     "output_type": "error",
     "traceback": [
      "\u001b[1;31m---------------------------------------------------------------------------\u001b[0m",
      "\u001b[1;31mTypeError\u001b[0m                                 Traceback (most recent call last)",
      "Cell \u001b[1;32mIn[5], line 1\u001b[0m\n\u001b[1;32m----> 1\u001b[0m \u001b[38;5;28;43mset\u001b[39;49m\u001b[43m[\u001b[49m\u001b[38;5;241;43m1\u001b[39;49m\u001b[43m]\u001b[49m \u001b[38;5;241m=\u001b[39m \u001b[38;5;241m55\u001b[39m\n",
      "\u001b[1;31mTypeError\u001b[0m: 'set' object does not support item assignment"
     ]
    }
   ],
   "source": [
    "set[1] = 55"
   ]
  },
  {
   "cell_type": "code",
   "execution_count": 6,
   "id": "27b6c556-5fd3-4650-ba86-3740967720db",
   "metadata": {},
   "outputs": [
    {
     "ename": "SyntaxError",
     "evalue": "invalid syntax (3630733228.py, line 1)",
     "output_type": "error",
     "traceback": [
      "\u001b[1;36m  Cell \u001b[1;32mIn[6], line 1\u001b[1;36m\u001b[0m\n\u001b[1;33m    try: my_set[1] = 55 except TypeError as e: print(\"Error:\", e)\u001b[0m\n\u001b[1;37m                        ^\u001b[0m\n\u001b[1;31mSyntaxError\u001b[0m\u001b[1;31m:\u001b[0m invalid syntax\n"
     ]
    }
   ],
   "source": [
    "try: my_set[1] = 55 except TypeError as e: print(\"Error:\", e)"
   ]
  },
  {
   "cell_type": "code",
   "execution_count": 7,
   "id": "93b0ff70-31dd-47c6-b857-59009ebc3643",
   "metadata": {},
   "outputs": [
    {
     "name": "stdout",
     "output_type": "stream",
     "text": [
      "Error: 'set' object does not support item assignment\n"
     ]
    }
   ],
   "source": [
    "# Creating a set\n",
    "my_set = {1, 2, 3}\n",
    "\n",
    "# Trying to assign a value at a specific index\n",
    "try:\n",
    "    my_set[1] = 55\n",
    "except TypeError as e:\n",
    "    print(\"Error:\", e)\n"
   ]
  },
  {
   "cell_type": "code",
   "execution_count": 8,
   "id": "8dbbdde3-b834-4401-82fa-a1ba8cb78489",
   "metadata": {},
   "outputs": [],
   "source": [
    "set.add(44)"
   ]
  },
  {
   "cell_type": "code",
   "execution_count": 9,
   "id": "e70ee00d-951f-4c5f-9dae-a0a8d38db965",
   "metadata": {},
   "outputs": [
    {
     "name": "stdout",
     "output_type": "stream",
     "text": [
      "{1, 2, 3, 4, 5, 6, 44}\n"
     ]
    }
   ],
   "source": [
    "print(set)"
   ]
  },
  {
   "cell_type": "code",
   "execution_count": 10,
   "id": "cdbb93d9-2037-4cf4-9110-3283f4169d2a",
   "metadata": {},
   "outputs": [
    {
     "ename": "TypeError",
     "evalue": "'set' object does not support item assignment",
     "output_type": "error",
     "traceback": [
      "\u001b[1;31m---------------------------------------------------------------------------\u001b[0m",
      "\u001b[1;31mTypeError\u001b[0m                                 Traceback (most recent call last)",
      "Cell \u001b[1;32mIn[10], line 1\u001b[0m\n\u001b[1;32m----> 1\u001b[0m \u001b[38;5;28;43mlist\u001b[39;49m\u001b[43m[\u001b[49m\u001b[38;5;241;43m1\u001b[39;49m\u001b[43m]\u001b[49m \u001b[38;5;241m=\u001b[39m \u001b[38;5;241m55\u001b[39m \n",
      "\u001b[1;31mTypeError\u001b[0m: 'set' object does not support item assignment"
     ]
    }
   ],
   "source": [
    "list[1] = 55 "
   ]
  },
  {
   "cell_type": "code",
   "execution_count": 11,
   "id": "da47b1cf-0be7-4d6a-a9ae-6afb8ab9a217",
   "metadata": {},
   "outputs": [],
   "source": [
    " list1 = [1,2,3,4,5]"
   ]
  },
  {
   "cell_type": "code",
   "execution_count": 14,
   "id": "e231f063-3c64-4cf5-b240-0e396201fba3",
   "metadata": {},
   "outputs": [],
   "source": [
    "list1[1] = 44 "
   ]
  },
  {
   "cell_type": "code",
   "execution_count": 15,
   "id": "51c2604b-d354-496d-89c7-4cd6457428d8",
   "metadata": {},
   "outputs": [
    {
     "data": {
      "text/plain": [
       "[1, 44, 3, 4, 5]"
      ]
     },
     "execution_count": 15,
     "metadata": {},
     "output_type": "execute_result"
    }
   ],
   "source": [
    "list1"
   ]
  },
  {
   "cell_type": "code",
   "execution_count": 13,
   "id": "fdc38f3f-2601-4efd-a3a2-0ed0fdd516a8",
   "metadata": {},
   "outputs": [
    {
     "name": "stdout",
     "output_type": "stream",
     "text": [
      "Updated list: [1, 55, 3]\n"
     ]
    }
   ],
   "source": [
    "    # Creating a list\n",
    "my_list = [1, 2, 3]\n",
    "\n",
    "# Assigning a value at a specific index\n",
    "my_list[1] = 55\n",
    "print(\"Updated list:\", my_list)\n"
   ]
  },
  {
   "cell_type": "code",
   "execution_count": 17,
   "id": "362fd2df-5e2f-4c52-bac8-e38690944768",
   "metadata": {},
   "outputs": [],
   "source": [
    "dict= { \"name\" : \"atharva\" , \"car\" : \"honda\"  , \"love\" :\"dhoka\"}"
   ]
  },
  {
   "cell_type": "code",
   "execution_count": 18,
   "id": "53860013-2ab0-4d4e-aa04-eb6d81a8efce",
   "metadata": {},
   "outputs": [
    {
     "data": {
      "text/plain": [
       "{'name': 'atharva', 'car': 'honda', 'love': 'dhoka'}"
      ]
     },
     "execution_count": 18,
     "metadata": {},
     "output_type": "execute_result"
    }
   ],
   "source": [
    "dict "
   ]
  },
  {
   "cell_type": "code",
   "execution_count": 6,
   "id": "344abee8-b138-4ff8-8814-f0341528129e",
   "metadata": {},
   "outputs": [],
   "source": [
    "abc = \"\"\"Nevertheless, rather than building all of its functionality into its core, Python was designed to be highly extensible via modules. \n",
    "This compact modularity has made it particularly popular as a means of adding programmable interfaces to existing applications. Van Rossum's \n",
    "vision of a small core language with a large standard library and easily extensible interpreter stemmed from his \n",
    "frustrations with ABC, which espoused the opposite approach\"\"\""
   ]
  },
  {
   "cell_type": "code",
   "execution_count": 3,
   "id": "bffba5d2-7605-454a-91b9-8d6fb84f71fc",
   "metadata": {},
   "outputs": [
    {
     "name": "stdout",
     "output_type": "stream",
     "text": [
      "{'T', 'o', 't', 'd', 'N', 'e', 'y', '\\n', 'h', 'n', 'x', 'i', 'l', 'w', ' ', 'r', 'C', 'c', 'A', '.', 'a', 'R', 'B', 'b', 's', 'V', 'f', 'P', 'p', 'm', ',', 'g', 'u', 'v', \"'\"}\n"
     ]
    }
   ],
   "source": [
    "print(set(abc))"
   ]
  },
  {
   "cell_type": "code",
   "execution_count": 4,
   "id": "6465f0e2-a7df-499f-91d0-f59f54e57089",
   "metadata": {},
   "outputs": [
    {
     "data": {
      "text/plain": [
       "35"
      ]
     },
     "execution_count": 4,
     "metadata": {},
     "output_type": "execute_result"
    }
   ],
   "source": [
    "len(set(abc))"
   ]
  },
  {
   "cell_type": "code",
   "execution_count": 7,
   "id": "40728bb1-a2fc-43af-8c58-e3498f4e5085",
   "metadata": {},
   "outputs": [
    {
     "data": {
      "text/plain": [
       "448"
      ]
     },
     "execution_count": 7,
     "metadata": {},
     "output_type": "execute_result"
    }
   ],
   "source": [
    "len(abc)"
   ]
  },
  {
   "cell_type": "code",
   "execution_count": 8,
   "id": "3d743e76-973e-4653-b306-389d8911e917",
   "metadata": {},
   "outputs": [
    {
     "data": {
      "text/plain": [
       "35"
      ]
     },
     "execution_count": 8,
     "metadata": {},
     "output_type": "execute_result"
    }
   ],
   "source": [
    "len(set(abc))"
   ]
  },
  {
   "cell_type": "code",
   "execution_count": 9,
   "id": "61937059-9255-47d2-a131-92043d060f3f",
   "metadata": {},
   "outputs": [
    {
     "ename": "AttributeError",
     "evalue": "'str' object has no attribute 'tolower'",
     "output_type": "error",
     "traceback": [
      "\u001b[1;31m---------------------------------------------------------------------------\u001b[0m",
      "\u001b[1;31mAttributeError\u001b[0m                            Traceback (most recent call last)",
      "Cell \u001b[1;32mIn[9], line 1\u001b[0m\n\u001b[1;32m----> 1\u001b[0m \u001b[38;5;28mprint\u001b[39m(\u001b[43mabc\u001b[49m\u001b[38;5;241;43m.\u001b[39;49m\u001b[43mtolower\u001b[49m())\n",
      "\u001b[1;31mAttributeError\u001b[0m: 'str' object has no attribute 'tolower'"
     ]
    }
   ],
   "source": [
    "print(abc.tolower())"
   ]
  },
  {
   "cell_type": "code",
   "execution_count": 10,
   "id": "ddad8465-fb4c-4563-858b-99ff84ad43d6",
   "metadata": {},
   "outputs": [
    {
     "name": "stdout",
     "output_type": "stream",
     "text": [
      "<built-in method lower of str object at 0x0000020A855728E0>\n"
     ]
    }
   ],
   "source": [
    "print(abc.lower)"
   ]
  },
  {
   "cell_type": "code",
   "execution_count": 11,
   "id": "cbb1b330-4c27-442b-98ba-138c4e0d8032",
   "metadata": {},
   "outputs": [
    {
     "data": {
      "text/plain": [
       "<function str.lower()>"
      ]
     },
     "execution_count": 11,
     "metadata": {},
     "output_type": "execute_result"
    }
   ],
   "source": [
    "abc.lower "
   ]
  },
  {
   "cell_type": "code",
   "execution_count": 12,
   "id": "9b0af883-ef49-4b12-90e6-79db555845f0",
   "metadata": {},
   "outputs": [
    {
     "data": {
      "text/plain": [
       "\"Nevertheless, rather than building all of its functionality into its core, Python was designed to be highly extensible via modules. \\nThis compact modularity has made it particularly popular as a means of adding programmable interfaces to existing applications. Van Rossum's \\nvision of a small core language with a large standard library and easily extensible interpreter stemmed from his \\nfrustrations with ABC, which espoused the opposite approach\""
      ]
     },
     "execution_count": 12,
     "metadata": {},
     "output_type": "execute_result"
    }
   ],
   "source": [
    "abc"
   ]
  },
  {
   "cell_type": "code",
   "execution_count": 7,
   "id": "6e0b3c33-47fe-43ef-a3e9-a91ff32d4b04",
   "metadata": {},
   "outputs": [
    {
     "name": "stdout",
     "output_type": "stream",
     "text": [
      "nevertheless, rather than building all of its functionality into its core, python was designed to be highly extensible via modules. \n",
      "this compact modularity has made it particularly popular as a means of adding programmable interfaces to existing applications. van rossum's \n",
      "vision of a small core language with a large standard library and easily extensible interpreter stemmed from his \n",
      "frustrations with abc, which espoused the opposite approach\n"
     ]
    }
   ],
   "source": [
    "print(abc.lower())"
   ]
  },
  {
   "cell_type": "code",
   "execution_count": 14,
   "id": "fe071e8f-49f6-424c-94c7-c0b66a750e0f",
   "metadata": {},
   "outputs": [
    {
     "data": {
      "text/plain": [
       "35"
      ]
     },
     "execution_count": 14,
     "metadata": {},
     "output_type": "execute_result"
    }
   ],
   "source": [
    "len(set(abc))"
   ]
  },
  {
   "cell_type": "code",
   "execution_count": 15,
   "id": "f2ec47c3-9cd3-42d3-ae6d-df6861a12415",
   "metadata": {},
   "outputs": [
    {
     "name": "stdout",
     "output_type": "stream",
     "text": [
      "{'T', 'o', 't', 'd', 'N', 'e', 'y', '\\n', 'h', 'n', 'x', 'i', 'l', 'w', ' ', 'r', 'C', 'c', 'A', '.', 'a', 'R', 'B', 'b', 's', 'V', 'f', 'P', 'p', 'm', ',', 'g', 'u', 'v', \"'\"}\n"
     ]
    }
   ],
   "source": [
    "print(set(abc))"
   ]
  },
  {
   "cell_type": "code",
   "execution_count": 16,
   "id": "ca422021-0508-4842-9515-644c5b92b7ca",
   "metadata": {},
   "outputs": [
    {
     "data": {
      "text/plain": [
       "448"
      ]
     },
     "execution_count": 16,
     "metadata": {},
     "output_type": "execute_result"
    }
   ],
   "source": [
    "len(abc)"
   ]
  },
  {
   "cell_type": "code",
   "execution_count": 17,
   "id": "2610bd3c-e3ad-4f98-bf50-dd5be230499a",
   "metadata": {},
   "outputs": [
    {
     "ename": "_IncompleteInputError",
     "evalue": "incomplete input (821252892.py, line 1)",
     "output_type": "error",
     "traceback": [
      "\u001b[1;36m  Cell \u001b[1;32mIn[17], line 1\u001b[1;36m\u001b[0m\n\u001b[1;33m    print(abc) - print(len(set(abc))\u001b[0m\n\u001b[1;37m                                    ^\u001b[0m\n\u001b[1;31m_IncompleteInputError\u001b[0m\u001b[1;31m:\u001b[0m incomplete input\n"
     ]
    }
   ],
   "source": [
    "print(abc) - print(len(set(abc))"
   ]
  },
  {
   "cell_type": "code",
   "execution_count": 1,
   "id": "f6e5ca50-e88b-4757-a2fd-234b5925c538",
   "metadata": {},
   "outputs": [
    {
     "ename": "_IncompleteInputError",
     "evalue": "incomplete input (715339560.py, line 1)",
     "output_type": "error",
     "traceback": [
      "\u001b[1;36m  Cell \u001b[1;32mIn[1], line 1\u001b[1;36m\u001b[0m\n\u001b[1;33m    duplicate = len(abc) - len(set(abc)\u001b[0m\n\u001b[1;37m                                       ^\u001b[0m\n\u001b[1;31m_IncompleteInputError\u001b[0m\u001b[1;31m:\u001b[0m incomplete input\n"
     ]
    }
   ],
   "source": [
    "duplicate = len(abc) - len(set(abc)"
   ]
  },
  {
   "cell_type": "code",
   "execution_count": 8,
   "id": "8362497a-af0c-4211-9433-687174ddff69",
   "metadata": {},
   "outputs": [
    {
     "name": "stdout",
     "output_type": "stream",
     "text": [
      "Number of duplicate characters: 413\n"
     ]
    }
   ],
   "source": [
    "\n",
    "duplicate_count = len(abc) - len(set(abc))\n",
    "print(\"Number of duplicate characters:\", duplicate_count)\n"
   ]
  },
  {
   "cell_type": "code",
   "execution_count": 9,
   "id": "1d7dc29d-7d3d-4fe9-8b2c-57ece286ab1f",
   "metadata": {},
   "outputs": [
    {
     "name": "stdout",
     "output_type": "stream",
     "text": [
      "Length of abc: 448\n",
      "Length of set(abc): 35\n",
      "Number of duplicate characters: 413\n"
     ]
    }
   ],
   "source": [
    "print(\"Length of abc:\", len(abc))\n",
    "print(\"Length of set(abc):\", len(set(abc))) \n",
    "print(\"Number of duplicate characters:\", len(abc) - len(set(abc)))"
   ]
  },
  {
   "cell_type": "code",
   "execution_count": 1,
   "id": "e54e71dc-13ed-44fe-b839-dfa3a8e055b3",
   "metadata": {},
   "outputs": [],
   "source": [
    "def addition (a , b ) :\n",
    "\n",
    "    c = a + b \n",
    "    return c \n"
   ]
  },
  {
   "cell_type": "code",
   "execution_count": 2,
   "id": "b56ec836-ae84-4cd0-a436-82b73024a4df",
   "metadata": {},
   "outputs": [
    {
     "data": {
      "text/plain": [
       "33"
      ]
     },
     "execution_count": 2,
     "metadata": {},
     "output_type": "execute_result"
    }
   ],
   "source": [
    "addition(11,22)"
   ]
  },
  {
   "cell_type": "code",
   "execution_count": 3,
   "id": "2ab0bffd-05cf-40b2-a580-f9a660147727",
   "metadata": {},
   "outputs": [],
   "source": [
    "def addition (a , b ) :\n",
    "\n",
    "    c = a + b \n",
    "    print(f\"the addition of two number is {c}\")"
   ]
  },
  {
   "cell_type": "code",
   "execution_count": 4,
   "id": "95c598f2-d1de-4ac5-9ddc-ade1f2f8bbe4",
   "metadata": {},
   "outputs": [
    {
     "name": "stdout",
     "output_type": "stream",
     "text": [
      "the addition of two number is 77\n"
     ]
    }
   ],
   "source": [
    "addition(33,44 )"
   ]
  },
  {
   "cell_type": "code",
   "execution_count": 5,
   "id": "84bbffb5-f808-47b3-badc-65a1fe3957dc",
   "metadata": {},
   "outputs": [],
   "source": [
    "def addition (a , b ) :\n",
    "\n",
    "    return  a + b "
   ]
  },
  {
   "cell_type": "code",
   "execution_count": 6,
   "id": "df6844c8-8fcb-457a-bfac-85794ebbd6f6",
   "metadata": {},
   "outputs": [
    {
     "data": {
      "text/plain": [
       "77"
      ]
     },
     "execution_count": 6,
     "metadata": {},
     "output_type": "execute_result"
    }
   ],
   "source": [
    "addition(33,44)"
   ]
  },
  {
   "cell_type": "code",
   "execution_count": 12,
   "id": "5bd65af9-884a-4a2c-b1ba-52cc74a9b7e0",
   "metadata": {},
   "outputs": [
    {
     "name": "stdin",
     "output_type": "stream",
     "text": [
      "the first number is  22\n"
     ]
    }
   ],
   "source": [
    "a  = int(input(\"the first number is \"))"
   ]
  },
  {
   "cell_type": "code",
   "execution_count": 14,
   "id": "d404090b-5b5c-419b-9bbc-9feee205fd21",
   "metadata": {},
   "outputs": [
    {
     "name": "stdin",
     "output_type": "stream",
     "text": [
      "the first number is  333\n"
     ]
    }
   ],
   "source": [
    "b = int(input(\"the first number is \"))"
   ]
  },
  {
   "cell_type": "code",
   "execution_count": 15,
   "id": "951eca83-112c-4ab0-9805-c5fd8dd0a8ad",
   "metadata": {},
   "outputs": [],
   "source": [
    "c = a+b"
   ]
  },
  {
   "cell_type": "code",
   "execution_count": 16,
   "id": "a50015f4-014e-4e32-bc6a-8e1f15b7d921",
   "metadata": {},
   "outputs": [
    {
     "name": "stdout",
     "output_type": "stream",
     "text": [
      "355\n"
     ]
    }
   ],
   "source": [
    "print(c)"
   ]
  },
  {
   "cell_type": "code",
   "execution_count": 18,
   "id": "cf20e0ea-95f5-4c0c-ab11-aee851b4ce57",
   "metadata": {},
   "outputs": [],
   "source": [
    "def multiplication ( a ,b ,c ):\n",
    "    \n",
    "    add = a+ b+ c\n",
    "    \n",
    "    multi = a*b*c\n",
    "    print(f\"the addition and multiplication {add} AND {multi}\")\n"
   ]
  },
  {
   "cell_type": "code",
   "execution_count": 19,
   "id": "9af87477-e230-48ad-869e-0193c2022028",
   "metadata": {},
   "outputs": [
    {
     "name": "stdout",
     "output_type": "stream",
     "text": [
      "the addition and multiplication 6 AND 6\n"
     ]
    }
   ],
   "source": [
    "multiplication(1,2,3)"
   ]
  },
  {
   "cell_type": "code",
   "execution_count": 20,
   "id": "2cd457c2-4dd5-489a-9804-66e7b80d986a",
   "metadata": {},
   "outputs": [
    {
     "name": "stdout",
     "output_type": "stream",
     "text": [
      "the addition and multiplication 99 AND 31944\n"
     ]
    }
   ],
   "source": [
    "multiplication(22,33,44)"
   ]
  },
  {
   "cell_type": "code",
   "execution_count": 22,
   "id": "70018e8b-b397-41a3-ae1f-137fe7d17ea8",
   "metadata": {},
   "outputs": [
    {
     "name": "stdout",
     "output_type": "stream",
     "text": [
      "210\n"
     ]
    }
   ],
   "source": [
    "# add 20 numbers without using loop\n",
    "numbers = range(1,21)\n",
    "result = sum(numbers)\n",
    "print(result)"
   ]
  },
  {
   "cell_type": "code",
   "execution_count": 24,
   "id": "cbbc7d25-149d-4241-a2cc-57f5e5ee2744",
   "metadata": {},
   "outputs": [
    {
     "data": {
      "text/plain": [
       "(11, 22)"
      ]
     },
     "execution_count": 24,
     "metadata": {},
     "output_type": "execute_result"
    }
   ],
   "source": [
    "tuple([11,22])"
   ]
  },
  {
   "cell_type": "code",
   "execution_count": 29,
   "id": "ecbf4d5c-7a49-4005-9d07-6bb5c90e2ba4",
   "metadata": {},
   "outputs": [],
   "source": [
    "def addition():\n",
    "    a = int(input(\"enter the first number\"))\n",
    "    b = int(input(\"enter the 2nd number\"))\n",
    "    return sum(range(a,b))\n",
    "    \n",
    "    "
   ]
  },
  {
   "cell_type": "code",
   "execution_count": 30,
   "id": "11042299-1847-40dc-a300-6608a35cfe6a",
   "metadata": {},
   "outputs": [
    {
     "name": "stdin",
     "output_type": "stream",
     "text": [
      "enter the first number 1\n",
      "enter the 2nd number 21\n"
     ]
    },
    {
     "data": {
      "text/plain": [
       "210"
      ]
     },
     "execution_count": 30,
     "metadata": {},
     "output_type": "execute_result"
    }
   ],
   "source": [
    "addition()"
   ]
  },
  {
   "cell_type": "code",
   "execution_count": 2,
   "id": "0b28e0f9-7095-4970-8203-5c3c10eb4830",
   "metadata": {},
   "outputs": [
    {
     "name": "stdin",
     "output_type": "stream",
     "text": [
      "enter the  age  22\n"
     ]
    },
    {
     "name": "stdout",
     "output_type": "stream",
     "text": [
      "32\n"
     ]
    }
   ],
   "source": [
    "# write a progrm to calculate the age after 10 years with the present age \n",
    "age = input(\"enter the  age \")\n",
    "present_age = int(age)+10 \n",
    "print(present_age)"
   ]
  },
  {
   "cell_type": "code",
   "execution_count": 17,
   "id": "e6075f45-b5bf-4605-b9bb-3ed42d8ca38c",
   "metadata": {},
   "outputs": [],
   "source": [
    "\n",
    "def age_calculater(present_age):\n",
    "    present_age = int(age)+10 \n",
    "    return present_age"
   ]
  },
  {
   "cell_type": "code",
   "execution_count": 18,
   "id": "aed2a0a0-625b-4db4-bfdc-1c6be488e3cd",
   "metadata": {},
   "outputs": [
    {
     "data": {
      "text/plain": [
       "32"
      ]
     },
     "execution_count": 18,
     "metadata": {},
     "output_type": "execute_result"
    }
   ],
   "source": [
    "age_calculater(22)"
   ]
  },
  {
   "cell_type": "code",
   "execution_count": 19,
   "id": "e856aee2-d774-48e2-be4f-c6bb5a42a482",
   "metadata": {},
   "outputs": [],
   "source": [
    "def addition(*args):\n",
    "    return(sum(args))"
   ]
  },
  {
   "cell_type": "code",
   "execution_count": 20,
   "id": "b7d73198-3d45-4f57-ae4c-26a28d1b964f",
   "metadata": {},
   "outputs": [
    {
     "data": {
      "text/plain": [
       "210"
      ]
     },
     "execution_count": 20,
     "metadata": {},
     "output_type": "execute_result"
    }
   ],
   "source": [
    "addition(1,2,3,4,5,6,7,8,9,10,11,12,13,14,15,16,17,18,19,20)"
   ]
  },
  {
   "cell_type": "code",
   "execution_count": 24,
   "id": "cbfa627b-762f-472d-ae06-0e5e11e0c926",
   "metadata": {},
   "outputs": [],
   "source": [
    "#lambda functions \n",
    "lambda1 = lambda num1 = 1, num2 = 2 : num1 + num2"
   ]
  },
  {
   "cell_type": "code",
   "execution_count": 25,
   "id": "7ae4b58f-b441-47c4-8260-2b9480852eb0",
   "metadata": {},
   "outputs": [
    {
     "name": "stdout",
     "output_type": "stream",
     "text": [
      "<function <lambda> at 0x0000027A60E1B7E0>\n"
     ]
    }
   ],
   "source": [
    "print(lambda1)"
   ]
  },
  {
   "cell_type": "code",
   "execution_count": 26,
   "id": "922d3f0c-6cf4-41fc-8b48-465e926af8d4",
   "metadata": {},
   "outputs": [],
   "source": [
    "result = lambda1()"
   ]
  },
  {
   "cell_type": "code",
   "execution_count": 27,
   "id": "3f9a63cc-b42f-445a-afb2-04423137dc98",
   "metadata": {},
   "outputs": [
    {
     "name": "stdout",
     "output_type": "stream",
     "text": [
      "3\n"
     ]
    }
   ],
   "source": [
    "print(result)"
   ]
  },
  {
   "cell_type": "code",
   "execution_count": 31,
   "id": "ad55a1e2-3dd2-4eb3-be60-439f528bd994",
   "metadata": {},
   "outputs": [
    {
     "name": "stdout",
     "output_type": "stream",
     "text": [
      "{1, 2, 3, 4}\n"
     ]
    }
   ],
   "source": [
    "set_v ={1,2,3,4,4,6,6,6,4,7}\n",
    "print(set)"
   ]
  },
  {
   "cell_type": "code",
   "execution_count": 32,
   "id": "76ff4141-465e-40d2-afdc-921f8f176745",
   "metadata": {},
   "outputs": [
    {
     "name": "stdout",
     "output_type": "stream",
     "text": [
      "{1, 2, 3, 4}\n"
     ]
    }
   ],
   "source": [
    "set_v ={1,2,3,4,4,6,6,6,4,7}\n",
    "print(set)"
   ]
  },
  {
   "cell_type": "code",
   "execution_count": 33,
   "id": "b1417e98-ac88-4c4c-b785-4332af65d67e",
   "metadata": {},
   "outputs": [],
   "source": [
    "set = {1,2,2,4,4,5,5,6,6,7}"
   ]
  },
  {
   "cell_type": "code",
   "execution_count": 34,
   "id": "0c5788c9-4fb3-4c26-87d7-601065458be5",
   "metadata": {},
   "outputs": [
    {
     "name": "stdout",
     "output_type": "stream",
     "text": [
      "{1, 2, 4, 5, 6, 7}\n"
     ]
    }
   ],
   "source": [
    "print(set)"
   ]
  },
  {
   "cell_type": "code",
   "execution_count": 35,
   "id": "e30f5595-02bb-402c-bf7b-3fa7cb6d4400",
   "metadata": {},
   "outputs": [
    {
     "name": "stdout",
     "output_type": "stream",
     "text": [
      "{1, 2, 3, 4, 5, 6, 7}\n"
     ]
    }
   ],
   "source": [
    "set1 = {1,2,2,3,3,4,5,5,5, 6,7}\n",
    "print(set1)"
   ]
  },
  {
   "cell_type": "code",
   "execution_count": 37,
   "id": "b9866a10-2405-419a-bc86-60d7ccd9465b",
   "metadata": {},
   "outputs": [
    {
     "name": "stdin",
     "output_type": "stream",
     "text": [
      "enter the number 1\n",
      "enter the number 2\n"
     ]
    },
    {
     "name": "stdout",
     "output_type": "stream",
     "text": [
      "the sum of  2\n"
     ]
    }
   ],
   "source": [
    "a = int(input(\"enter the number\"))\n",
    "b = int(input(\"enter the number\"))\n",
    "lambda2 = lambda a,b : a*b\n",
    "print(\"the sum of \", lambda2(a,b))"
   ]
  },
  {
   "cell_type": "code",
   "execution_count": 41,
   "id": "90128d87-cef5-4868-af5c-ae9ccf9b1c0d",
   "metadata": {},
   "outputs": [
    {
     "name": "stdin",
     "output_type": "stream",
     "text": [
      "enter the number 8\n",
      "enter the numbers 2\n"
     ]
    },
    {
     "name": "stdout",
     "output_type": "stream",
     "text": [
      "the floor divison of the number 4\n"
     ]
    }
   ],
   "source": [
    "x=  int (input(\"enter the number\"))\n",
    "y = int (input(\"enter the numbers\"))\n",
    "lambda3 = lambda x,y : x//y\n",
    "print(\"the floor divison of the number\" , lambda3(x,y))"
   ]
  },
  {
   "cell_type": "code",
   "execution_count": 45,
   "id": "6c838674-0343-4cfd-9799-cf2e5920046e",
   "metadata": {},
   "outputs": [
    {
     "name": "stdout",
     "output_type": "stream",
     "text": [
      "16\n"
     ]
    }
   ],
   "source": [
    "w = 8\n",
    "r=  2\n",
    "lambda4 = lambda w,r : w*r\n",
    "print(lambda4(w,r))"
   ]
  },
  {
   "cell_type": "code",
   "execution_count": 47,
   "id": "93364c7f-0705-45c5-8264-a3125d709b1e",
   "metadata": {},
   "outputs": [
    {
     "name": "stdout",
     "output_type": "stream",
     "text": [
      "the multi of  100\n"
     ]
    }
   ],
   "source": [
    "lambda5 = (lambda a,b : a *b)(10,10)\n",
    "print(\"the multi of \" , lambda5)"
   ]
  },
  {
   "cell_type": "code",
   "execution_count": 56,
   "id": "9a4a4798-fe6b-46fc-b016-1c8320a4da52",
   "metadata": {},
   "outputs": [],
   "source": [
    "def addition(a,b):\n",
    "    result = a+b \n",
    "    print(f\"the asum of {result}\")\n",
    "    "
   ]
  },
  {
   "cell_type": "code",
   "execution_count": 57,
   "id": "5cc3d295-cef7-46c4-afc9-42f27776ed20",
   "metadata": {},
   "outputs": [
    {
     "name": "stdout",
     "output_type": "stream",
     "text": [
      "the asum of 133\n"
     ]
    }
   ],
   "source": [
    "addition(111,22)"
   ]
  },
  {
   "cell_type": "code",
   "execution_count": 59,
   "id": "ab2ab7a8-20ea-4f87-851d-4cb51b806e0f",
   "metadata": {},
   "outputs": [
    {
     "data": {
      "text/plain": [
       "210"
      ]
     },
     "execution_count": 59,
     "metadata": {},
     "output_type": "execute_result"
    }
   ],
   "source": [
    "sum(range(1,21))"
   ]
  },
  {
   "cell_type": "code",
   "execution_count": 68,
   "id": "75d49147-9bad-4d66-a705-ba345469056e",
   "metadata": {},
   "outputs": [],
   "source": [
    "def addition1(*c):\n",
    "    result = sum(args)\n",
    "    print(f\"the sum of {result}\")\n"
   ]
  },
  {
   "cell_type": "code",
   "execution_count": 67,
   "id": "4551f51c-b477-41d7-9e51-f24459a85bde",
   "metadata": {},
   "outputs": [
    {
     "name": "stdout",
     "output_type": "stream",
     "text": [
      "the sum of 320\n"
     ]
    }
   ],
   "source": [
    "addition1(1,2,43,4,5,6,7,8,8,99,9,9,7,7,7,77,7,7,7)"
   ]
  },
  {
   "cell_type": "code",
   "execution_count": 72,
   "id": "a5c69dca-1a50-4a39-8b52-a6023f6525e6",
   "metadata": {},
   "outputs": [
    {
     "name": "stdout",
     "output_type": "stream",
     "text": [
      "the addiotion of  0.8\n"
     ]
    }
   ],
   "source": [
    "r =44 \n",
    "t= 55\n",
    "lambda33 = lambda r,t : r/t \n",
    "print(\"the addiotion of \" , lambda33(r,t))"
   ]
  },
  {
   "cell_type": "code",
   "execution_count": 1,
   "id": "0d6c072f-6c5f-420e-a6e0-4d7f2c43d3fc",
   "metadata": {},
   "outputs": [
    {
     "name": "stdout",
     "output_type": "stream",
     "text": [
      "helllo\n",
      "helllo\n",
      "helllo\n",
      "helllo\n",
      "helllo\n",
      "helllo\n",
      "helllo\n",
      "helllo\n",
      "helllo\n",
      "helllo\n"
     ]
    }
   ],
   "source": [
    "i =1 \n",
    "\n",
    "while i <=10 :\n",
    "    print(\"helllo\")\n",
    "    i = i+1 "
   ]
  },
  {
   "cell_type": "code",
   "execution_count": 3,
   "id": "bf73cccd-9225-4c1e-a0af-79ab678620a4",
   "metadata": {},
   "outputs": [
    {
     "name": "stdin",
     "output_type": "stream",
     "text": [
      "enetr the number 1\n",
      "enter the number1 10\n"
     ]
    },
    {
     "name": "stdout",
     "output_type": "stream",
     "text": [
      "heeeelo\n",
      "heeeelo\n",
      "heeeelo\n",
      "heeeelo\n",
      "heeeelo\n",
      "heeeelo\n",
      "heeeelo\n",
      "heeeelo\n",
      "heeeelo\n",
      "heeeelo\n"
     ]
    }
   ],
   "source": [
    "i = int(input(\"enetr the number\"))\n",
    "number = int(input(\"enter the number1\"))\n",
    "while i <= number :\n",
    "    i = i+1\n",
    "    print(\"heeeelo\")\n",
    "    "
   ]
  },
  {
   "cell_type": "code",
   "execution_count": 4,
   "id": "794cba21-a18e-4423-a46d-7271e545c698",
   "metadata": {},
   "outputs": [
    {
     "name": "stdin",
     "output_type": "stream",
     "text": [
      "enetr the number 1\n",
      "enter the number1 104\n"
     ]
    },
    {
     "name": "stdout",
     "output_type": "stream",
     "text": [
      "heeeelo\n",
      "heeeelo\n",
      "heeeelo\n",
      "heeeelo\n",
      "heeeelo\n",
      "heeeelo\n",
      "heeeelo\n",
      "heeeelo\n",
      "heeeelo\n",
      "heeeelo\n",
      "heeeelo\n",
      "heeeelo\n",
      "heeeelo\n",
      "heeeelo\n",
      "heeeelo\n",
      "heeeelo\n",
      "heeeelo\n",
      "heeeelo\n",
      "heeeelo\n",
      "heeeelo\n",
      "heeeelo\n",
      "heeeelo\n",
      "heeeelo\n",
      "heeeelo\n",
      "heeeelo\n",
      "heeeelo\n",
      "heeeelo\n",
      "heeeelo\n",
      "heeeelo\n",
      "heeeelo\n",
      "heeeelo\n",
      "heeeelo\n",
      "heeeelo\n",
      "heeeelo\n",
      "heeeelo\n",
      "heeeelo\n",
      "heeeelo\n",
      "heeeelo\n",
      "heeeelo\n",
      "heeeelo\n",
      "heeeelo\n",
      "heeeelo\n",
      "heeeelo\n",
      "heeeelo\n",
      "heeeelo\n",
      "heeeelo\n",
      "heeeelo\n",
      "heeeelo\n",
      "heeeelo\n",
      "heeeelo\n",
      "heeeelo\n",
      "heeeelo\n",
      "heeeelo\n",
      "heeeelo\n",
      "heeeelo\n",
      "heeeelo\n",
      "heeeelo\n",
      "heeeelo\n",
      "heeeelo\n",
      "heeeelo\n",
      "heeeelo\n",
      "heeeelo\n",
      "heeeelo\n",
      "heeeelo\n",
      "heeeelo\n",
      "heeeelo\n",
      "heeeelo\n",
      "heeeelo\n",
      "heeeelo\n",
      "heeeelo\n",
      "heeeelo\n",
      "heeeelo\n",
      "heeeelo\n",
      "heeeelo\n",
      "heeeelo\n",
      "heeeelo\n",
      "heeeelo\n",
      "heeeelo\n",
      "heeeelo\n",
      "heeeelo\n",
      "heeeelo\n",
      "heeeelo\n",
      "heeeelo\n",
      "heeeelo\n",
      "heeeelo\n",
      "heeeelo\n",
      "heeeelo\n",
      "heeeelo\n",
      "heeeelo\n",
      "heeeelo\n",
      "heeeelo\n",
      "heeeelo\n",
      "heeeelo\n",
      "heeeelo\n",
      "heeeelo\n",
      "heeeelo\n",
      "heeeelo\n",
      "heeeelo\n",
      "heeeelo\n",
      "heeeelo\n",
      "heeeelo\n",
      "heeeelo\n",
      "heeeelo\n",
      "heeeelo\n"
     ]
    }
   ],
   "source": [
    "i = int(input(\"enetr the number\"))\n",
    "number = int(input(\"enter the number1\"))\n",
    "while i <= number :\n",
    "    print(\"heeeelo\")\n",
    "    i = i+1\n",
    "    "
   ]
  },
  {
   "cell_type": "code",
   "execution_count": 2,
   "id": "0237f738-d516-48a7-b087-9997f06e5479",
   "metadata": {},
   "outputs": [
    {
     "name": "stdout",
     "output_type": "stream",
     "text": [
      "1\n",
      "2\n",
      "3\n",
      "4\n",
      "5\n",
      "6\n"
     ]
    }
   ],
   "source": [
    "list = (1,2,3,4,5,6)\n",
    "for day in list:\n",
    "    print(day)"
   ]
  },
  {
   "cell_type": "code",
   "execution_count": 1,
   "id": "0bdfbca6-f945-4460-807f-7e18aabc478b",
   "metadata": {},
   "outputs": [
    {
     "name": "stdout",
     "output_type": "stream",
     "text": [
      "monday\n",
      "tuesday\n",
      "wedenesday\n",
      "thursday\n",
      "friday\n",
      "saturday\n",
      "sunday\n"
     ]
    }
   ],
   "source": [
    "list1= ['monday' , 'tuesday', 'wedenesday' , 'thursday' , 'friday' , 'saturday' , 'sunday']\n",
    "for abc in list1:\n",
    "    print(abc)"
   ]
  },
  {
   "cell_type": "code",
   "execution_count": 6,
   "id": "927ca4fa-2795-411a-ad61-eb95f4f01e6b",
   "metadata": {},
   "outputs": [
    {
     "name": "stdin",
     "output_type": "stream",
     "text": [
      "enter the number 7\n"
     ]
    },
    {
     "name": "stdout",
     "output_type": "stream",
     "text": [
      "5040\n"
     ]
    }
   ],
   "source": [
    "i=1 \n",
    "result = 1  \n",
    "number = int(input(\"enter the number\"))\n",
    "while i <= number :\n",
    "    result = result * i \n",
    "    i = i+1 \n",
    "print(result)"
   ]
  },
  {
   "cell_type": "code",
   "execution_count": 1,
   "id": "dea455b0-ff5f-434a-921f-c015fe84391e",
   "metadata": {},
   "outputs": [
    {
     "name": "stdin",
     "output_type": "stream",
     "text": [
      "enter the number 10\n"
     ]
    },
    {
     "name": "stdout",
     "output_type": "stream",
     "text": [
      "the even numbers are 2\n",
      "the even numbers are 4\n",
      "the even numbers are 6\n",
      "the even numbers are 8\n",
      "the even numbers are 10\n"
     ]
    }
   ],
   "source": [
    "i =1 \n",
    "number = int(input(\"enter the number\"))\n",
    "while i<=number :\n",
    "    if i % 2 == 0 :\n",
    "        print(f\"the even numbers are {i}\")\n",
    "    i = i + 1 \n",
    "\n",
    "\n",
    "    "
   ]
  },
  {
   "cell_type": "code",
   "execution_count": null,
   "id": "03e8001b-daf1-431a-9457-eb3637246dac",
   "metadata": {},
   "outputs": [],
   "source": [
    "# this code will run infinitely \n",
    "star = '*'\n",
    "max_len = int(input(\"enter the length\"))\n",
    "\n",
    "while len(star) <= max_len:\n",
    "    print(star)\n",
    "    star = '*' * 6"
   ]
  },
  {
   "cell_type": "code",
   "execution_count": 6,
   "id": "3fd16d42-576d-4665-8154-3b0fc1f94e14",
   "metadata": {},
   "outputs": [
    {
     "name": "stdin",
     "output_type": "stream",
     "text": [
      "enter the string tom\n"
     ]
    },
    {
     "name": "stdout",
     "output_type": "stream",
     "text": [
      "string is not pallindrome\n"
     ]
    }
   ],
   "source": [
    "# pallindrome\n",
    "a = input(\"enter the string\")\n",
    "if a == a[::-1]:\n",
    "    print(\"the string is pallindrome\")\n",
    "else:\n",
    "    print(\"string is not pallindrome\")"
   ]
  },
  {
   "cell_type": "code",
   "execution_count": 11,
   "id": "82dc0222-e2d7-467c-b0fc-4b6f059cea90",
   "metadata": {},
   "outputs": [
    {
     "name": "stdout",
     "output_type": "stream",
     "text": [
      "har\n"
     ]
    }
   ],
   "source": [
    "b = \"atharva\"\n",
    "print(b[2:5:1])"
   ]
  },
  {
   "cell_type": "code",
   "execution_count": 40,
   "id": "be8e7e07-2377-49af-bd4d-9afaa66996c1",
   "metadata": {},
   "outputs": [
    {
     "data": {
      "text/plain": [
       "0"
      ]
     },
     "execution_count": 40,
     "metadata": {},
     "output_type": "execute_result"
    }
   ],
   "source": [
    "# string methods \n",
    "c = \"atharva\"\n",
    "#c.capitalize()\n",
    "#c.casefold()\n",
    "#c.count(\"a\")\n",
    "#c.endswith(\"va\")\n",
    "#c.startswith(\"tom\")\n",
    "#c.find(\"h\")\n",
    "#d= \"ath\\tarva\"\n",
    "#d.expandtabs(4)\n",
    "#c.index(\"a\")\n",
    "\n",
    "\n"
   ]
  },
  {
   "cell_type": "code",
   "execution_count": 42,
   "id": "9bb10aa7-4d2a-4a29-9094-5088c8a1d007",
   "metadata": {},
   "outputs": [
    {
     "name": "stdout",
     "output_type": "stream",
     "text": [
      "range(1, 20, 2)\n"
     ]
    }
   ],
   "source": [
    "print(range(1,20,2))"
   ]
  },
  {
   "cell_type": "code",
   "execution_count": 43,
   "id": "cdf34d2e-5689-4d5a-bb09-95bcb1797637",
   "metadata": {},
   "outputs": [
    {
     "name": "stdin",
     "output_type": "stream",
     "text": [
      "enter the number 10\n",
      "enter the max numbers 40\n"
     ]
    },
    {
     "name": "stdout",
     "output_type": "stream",
     "text": [
      "12\n",
      "14\n",
      "16\n",
      "18\n",
      "20\n",
      "22\n",
      "24\n",
      "26\n",
      "28\n",
      "30\n",
      "32\n",
      "34\n",
      "36\n",
      "38\n",
      "40\n",
      "42\n"
     ]
    }
   ],
   "source": [
    "number = int(input(\"enter the number\"))\n",
    "max_number = int(input(\"enter the max numbers\"))\n",
    "while number <= max_number:\n",
    "    number = number + 2 \n",
    "    print(number)\n",
    "    "
   ]
  },
  {
   "cell_type": "code",
   "execution_count": 45,
   "id": "0ed17da8-ad03-43d9-8fce-e271f6df7214",
   "metadata": {},
   "outputs": [
    {
     "name": "stdin",
     "output_type": "stream",
     "text": [
      "enter the number 1\n",
      "enter the max numbers 10\n"
     ]
    },
    {
     "name": "stdout",
     "output_type": "stream",
     "text": [
      "2\n",
      "3\n",
      "4\n",
      "5\n",
      "6\n",
      "7\n",
      "8\n",
      "9\n",
      "10\n",
      "11\n"
     ]
    }
   ],
   "source": [
    "number = int(input(\"enter the number\"))\n",
    "max_number = int(input(\"enter the max numbers\"))\n",
    "while number <= max_number:\n",
    "    number = number + 1\n",
    "    print(number)"
   ]
  },
  {
   "cell_type": "code",
   "execution_count": 47,
   "id": "3075122c-a24f-4851-acf4-9ce4810fc894",
   "metadata": {},
   "outputs": [],
   "source": [
    "#1.Write a Python program to find the area of a triangle.\n",
    "\n",
    "def areaoftriangle(l,b,h):\n",
    "    area = l*b*h\n",
    "    print(f\"the area of traingle is {area}\") \n",
    "                   "
   ]
  },
  {
   "cell_type": "code",
   "execution_count": 48,
   "id": "8d089592-91a7-4ec5-82a8-e47ad0a8e320",
   "metadata": {},
   "outputs": [
    {
     "name": "stdout",
     "output_type": "stream",
     "text": [
      "the area of traingle is 6\n"
     ]
    }
   ],
   "source": [
    "areaoftriangle(1,2,3)"
   ]
  },
  {
   "cell_type": "code",
   "execution_count": 49,
   "id": "e57e4c03-2a64-46fb-be58-3b609ca7fad6",
   "metadata": {},
   "outputs": [
    {
     "name": "stdin",
     "output_type": "stream",
     "text": [
      "eneter the number1 2\n",
      "enter the number2 3\n"
     ]
    },
    {
     "name": "stdout",
     "output_type": "stream",
     "text": [
      "3 2\n"
     ]
    }
   ],
   "source": [
    "a = int(input(\"eneter the number1\"))\n",
    "b = int(input(\"enter the number2\"))\n",
    "\n",
    "temp= a \n",
    "a= b \n",
    "b= temp\n",
    "\n",
    "print(a,b)"
   ]
  },
  {
   "cell_type": "code",
   "execution_count": 50,
   "id": "f7a48952-b4e3-49d2-9350-f836381c406b",
   "metadata": {},
   "outputs": [],
   "source": [
    "def swapnumbers ( a , b):\n",
    "    temp=a \n",
    "    a=b\n",
    "    b=temp\n",
    "    print(f\"after the swapping the numbers are {a} {b}\")"
   ]
  },
  {
   "cell_type": "code",
   "execution_count": 52,
   "id": "f804bd26-f861-43ee-9db2-25708d126685",
   "metadata": {},
   "outputs": [
    {
     "name": "stdout",
     "output_type": "stream",
     "text": [
      "after the swapping the numbers are 32\n"
     ]
    }
   ],
   "source": [
    "swapnumbers(2,3)"
   ]
  },
  {
   "cell_type": "code",
   "execution_count": 54,
   "id": "10fbb2f4-585d-4d2d-9a29-115fa113761e",
   "metadata": {},
   "outputs": [
    {
     "data": {
      "text/plain": [
       "'ATHARVA'"
      ]
     },
     "execution_count": 54,
     "metadata": {},
     "output_type": "execute_result"
    }
   ],
   "source": [
    "a= \"atharva\"\n",
    "a.swapcase()"
   ]
  },
  {
   "cell_type": "code",
   "execution_count": 55,
   "id": "3054262c-4e09-4958-b258-2ca9e0744435",
   "metadata": {},
   "outputs": [
    {
     "name": "stdin",
     "output_type": "stream",
     "text": [
      "eneter the number1 2\n",
      "enter the number2 3\n"
     ]
    },
    {
     "name": "stdout",
     "output_type": "stream",
     "text": [
      "3 2\n"
     ]
    }
   ],
   "source": [
    "# without using temp variable\n",
    "a = int(input(\"eneter the number1\"))\n",
    "b = int(input(\"enter the number2\"))\n",
    "\n",
    "a,b=b,a\n",
    "\n",
    "print(a,b)"
   ]
  },
  {
   "cell_type": "code",
   "execution_count": 62,
   "id": "9ab70602-d91a-4c0e-924b-743fcc61ec28",
   "metadata": {},
   "outputs": [],
   "source": [
    "#Write a Python Program to Check if a Number is Positive, Negative or Zero\n",
    "def number(a):\n",
    "    if a >=1 :\n",
    "        print(\"the number  is positive\")\n",
    "    elif a < 1 :\n",
    "        print(\"the number is negative\")\n",
    "    elif a == 0 :\n",
    "        print(\"the number is zero\")\n",
    "    else :\n",
    "        print(\"the number is invalid\")\n",
    "    print(f\"the given number is {a}\")    "
   ]
  },
  {
   "cell_type": "code",
   "execution_count": 57,
   "id": "f0584cfa-91d6-4285-9f46-bf5527a270f1",
   "metadata": {},
   "outputs": [
    {
     "name": "stdout",
     "output_type": "stream",
     "text": [
      "the number  is positive\n",
      "the given number is 2\n"
     ]
    }
   ],
   "source": [
    "number(2)"
   ]
  },
  {
   "cell_type": "code",
   "execution_count": 58,
   "id": "c74f3f32-7e58-4740-8deb-a87a5ca81794",
   "metadata": {},
   "outputs": [
    {
     "name": "stdout",
     "output_type": "stream",
     "text": [
      "the number is negative\n",
      "the given number is -1\n"
     ]
    }
   ],
   "source": [
    "number(-1)"
   ]
  },
  {
   "cell_type": "code",
   "execution_count": 59,
   "id": "b25e4a95-8d89-4af3-aa73-8894612ac52f",
   "metadata": {},
   "outputs": [
    {
     "name": "stdout",
     "output_type": "stream",
     "text": [
      "the number  is positive\n",
      "the given number is 1\n"
     ]
    }
   ],
   "source": [
    "number(1)\n"
   ]
  },
  {
   "cell_type": "code",
   "execution_count": 60,
   "id": "4c3a5d08-e1af-46a9-b09a-c20b4ff35920",
   "metadata": {},
   "outputs": [
    {
     "name": "stdout",
     "output_type": "stream",
     "text": [
      "the number is negative\n",
      "the given number is 0\n"
     ]
    }
   ],
   "source": [
    "number(0)\n"
   ]
  },
  {
   "cell_type": "code",
   "execution_count": 61,
   "id": "1181f81a-e767-446d-a63b-26f7a3bf65eb",
   "metadata": {},
   "outputs": [
    {
     "name": "stdout",
     "output_type": "stream",
     "text": [
      "the number  is positive\n",
      "the given number is 824824624624297\n"
     ]
    }
   ],
   "source": [
    "number(824824624624297)"
   ]
  },
  {
   "cell_type": "code",
   "execution_count": 64,
   "id": "36b7fe7b-df97-42c4-a26a-a58a3b5fd053",
   "metadata": {},
   "outputs": [],
   "source": [
    "#5.Write a Python Program to Check if a Number is Odd or Even.\n",
    "def number(a):\n",
    "    if a %2 ==0:\n",
    "        print(\"the number  is even\")\n",
    "    elif a % 2 != 0 :\n",
    "        print(\"the number is odd\")\n",
    "    \n",
    "    print(f\"the given number is {a}\")    "
   ]
  },
  {
   "cell_type": "code",
   "execution_count": 65,
   "id": "25b0daf3-d52d-4caa-b23d-ce8ba9f93be9",
   "metadata": {},
   "outputs": [
    {
     "name": "stdout",
     "output_type": "stream",
     "text": [
      "the number  is even\n",
      "the given number is 2\n"
     ]
    }
   ],
   "source": [
    "number(2)"
   ]
  },
  {
   "cell_type": "code",
   "execution_count": 66,
   "id": "4f9e6191-f780-4d3d-bb19-24f108be3c7f",
   "metadata": {},
   "outputs": [
    {
     "name": "stdout",
     "output_type": "stream",
     "text": [
      "the number is odd\n",
      "the given number is 3\n"
     ]
    }
   ],
   "source": [
    "number(3)"
   ]
  },
  {
   "cell_type": "code",
   "execution_count": null,
   "id": "b1466229-c4a2-4ac8-8bf5-d175fede3ff0",
   "metadata": {},
   "outputs": [],
   "source": [
    "#7.Write a Python Program to Check Prime Numbers.\n"
   ]
  },
  {
   "cell_type": "code",
   "execution_count": 1,
   "id": "5066f63b-277c-4283-8e36-1ce52c502654",
   "metadata": {},
   "outputs": [],
   "source": [
    "a = \"atharva\""
   ]
  },
  {
   "cell_type": "code",
   "execution_count": 2,
   "id": "94b7d334-dcba-47d1-a2df-347ff88209a9",
   "metadata": {},
   "outputs": [
    {
     "name": "stdout",
     "output_type": "stream",
     "text": [
      "['a', 't', 'h', 'a', 'r', 'v', 'a']\n"
     ]
    }
   ],
   "source": [
    "print(list(a))"
   ]
  },
  {
   "cell_type": "code",
   "execution_count": 4,
   "id": "dced49dc-ea1b-4c90-9b18-b09444780b2b",
   "metadata": {},
   "outputs": [
    {
     "name": "stdout",
     "output_type": "stream",
     "text": [
      "atha\n"
     ]
    }
   ],
   "source": [
    "print(a[0:4])\n"
   ]
  },
  {
   "cell_type": "code",
   "execution_count": 6,
   "id": "b6ed6f63-0844-4f5b-9873-6abd717d4415",
   "metadata": {},
   "outputs": [
    {
     "name": "stdout",
     "output_type": "stream",
     "text": [
      "atharv\n"
     ]
    }
   ],
   "source": [
    "print(a[:-1])"
   ]
  },
  {
   "cell_type": "code",
   "execution_count": 7,
   "id": "a22327ce-7b83-45a1-9b46-154dabfae244",
   "metadata": {},
   "outputs": [
    {
     "name": "stdout",
     "output_type": "stream",
     "text": [
      "7\n"
     ]
    }
   ],
   "source": [
    "print(len(a))"
   ]
  },
  {
   "cell_type": "code",
   "execution_count": 8,
   "id": "b160461c-302b-4e66-bc5a-69ead3c9e360",
   "metadata": {},
   "outputs": [
    {
     "name": "stdout",
     "output_type": "stream",
     "text": [
      "a\n"
     ]
    }
   ],
   "source": [
    "print(a[3])"
   ]
  },
  {
   "cell_type": "code",
   "execution_count": 9,
   "id": "c904fd1c-b634-4b74-b790-9e8e79312572",
   "metadata": {},
   "outputs": [],
   "source": [
    "names = [\"ram\",\"shyam\",\"monu\",\"sonu\",\"ganesh\",\"shiva\",\"rani\",\"tomy\",\"chintu\",\"ganga\",\"laxmi\"]"
   ]
  },
  {
   "cell_type": "code",
   "execution_count": 10,
   "id": "a65ba942-10e2-4819-bb1e-8984f03e8b02",
   "metadata": {},
   "outputs": [
    {
     "name": "stdout",
     "output_type": "stream",
     "text": [
      "['shyam', 'sonu', 'shiva', 'tomy', 'ganga']\n"
     ]
    }
   ],
   "source": [
    "print(names[1:10:2])"
   ]
  },
  {
   "cell_type": "code",
   "execution_count": 11,
   "id": "498de5cd-a020-4b0c-b529-0119a99133c5",
   "metadata": {},
   "outputs": [
    {
     "name": "stdout",
     "output_type": "stream",
     "text": [
      "['laxmi', 'ganga', 'chintu', 'tomy', 'rani', 'shiva', 'ganesh', 'sonu', 'monu', 'shyam', 'ram']\n"
     ]
    }
   ],
   "source": [
    "print(names[::-1])"
   ]
  },
  {
   "cell_type": "code",
   "execution_count": 12,
   "id": "a4f0244f-60d9-4e7c-8931-f741ea7f6a27",
   "metadata": {},
   "outputs": [
    {
     "name": "stdout",
     "output_type": "stream",
     "text": [
      "ram\n",
      "shyam\n",
      "monu\n",
      "sonu\n",
      "ganesh\n",
      "shiva\n",
      "rani\n",
      "tomy\n",
      "chintu\n",
      "ganga\n",
      "laxmi\n"
     ]
    }
   ],
   "source": [
    "names = [\"ram\",\"shyam\",\"monu\",\"sonu\",\"ganesh\",\"shiva\",\"rani\",\"tomy\",\"chintu\",\"ganga\",\"laxmi\"]\n",
    "\n",
    "for name in names :\n",
    "    print(name)"
   ]
  },
  {
   "cell_type": "code",
   "execution_count": 15,
   "id": "945437f4-0821-47e0-91f0-f668d6244a42",
   "metadata": {},
   "outputs": [
    {
     "name": "stdout",
     "output_type": "stream",
     "text": [
      "ram\n",
      "shyam\n",
      "monu\n",
      "sonu\n",
      "ganesh\n",
      "shiva\n",
      "rani\n",
      "tomy\n",
      "chintu\n",
      "ganga\n",
      "laxmi\n"
     ]
    }
   ],
   "source": [
    "names = [\"ram\",\"shyam\",\"monu\",\"sonu\",\"ganesh\",\"shiva\",\"rani\",\"tomy\",\"chintu\",\"ganga\",\"laxmi\"]\n",
    "i =0 \n",
    "while  i < len(names):\n",
    "    print(names[i])\n",
    "    i = i+1 "
   ]
  },
  {
   "cell_type": "code",
   "execution_count": 21,
   "id": "9446cd5f-ccfb-4099-bfa6-5b1b1ccfdf76",
   "metadata": {},
   "outputs": [
    {
     "name": "stdin",
     "output_type": "stream",
     "text": [
      "enter the age 220\n"
     ]
    },
    {
     "name": "stdout",
     "output_type": "stream",
     "text": [
      "the age after 10 years  230\n"
     ]
    }
   ],
   "source": [
    "age = int(input(\"enter the age\"))\n",
    "lambda111 = lambda age : age + 10 \n",
    "print(\"the age after 10 years \" ,lambda111(age))"
   ]
  },
  {
   "cell_type": "code",
   "execution_count": 22,
   "id": "049d79a6-1984-45ae-b4be-56ecc55ee655",
   "metadata": {},
   "outputs": [
    {
     "name": "stdout",
     "output_type": "stream",
     "text": [
      "[10, 20, 30, 40, 50, 60, 70, 80, 90, 100]\n"
     ]
    }
   ],
   "source": [
    "my_list = []\n",
    "\n",
    "for number in range(10,110,10):\n",
    "    my_list.append(number)\n",
    "print(my_list)    "
   ]
  },
  {
   "cell_type": "code",
   "execution_count": 23,
   "id": "60121634-3429-40ac-b9b5-89d7c674e553",
   "metadata": {},
   "outputs": [],
   "source": [
    "fruits = [\"Apple\",\"Banana\",\"Mango\",\"Cherry\"]\n",
    "fruits.append(\"alala\")"
   ]
  },
  {
   "cell_type": "code",
   "execution_count": 24,
   "id": "4b44f2a3-ba11-4378-996f-20d3e6f4cb21",
   "metadata": {},
   "outputs": [
    {
     "name": "stdout",
     "output_type": "stream",
     "text": [
      "['Apple', 'Banana', 'Mango', 'Cherry', 'alala']\n"
     ]
    }
   ],
   "source": [
    "print(fruits)"
   ]
  },
  {
   "cell_type": "code",
   "execution_count": 29,
   "id": "aca2621a-1e0f-4aca-a7de-df4a50568f3c",
   "metadata": {},
   "outputs": [
    {
     "name": "stdout",
     "output_type": "stream",
     "text": [
      "['berry', 'grapes']\n"
     ]
    }
   ],
   "source": [
    "more_fruits = [\"berry\" , \"grapes\"]\n",
    "fruits.extend(more_fruits)\n",
    "print(more_fruits)"
   ]
  },
  {
   "cell_type": "code",
   "execution_count": 30,
   "id": "cfc61792-f774-4915-a54c-ab78fd8def00",
   "metadata": {},
   "outputs": [
    {
     "name": "stdout",
     "output_type": "stream",
     "text": [
      "['Apple', 'Banana', 'Mango', 'Cherry', 'alala', 'berry', 'grapes', 'berry', 'grapes']\n"
     ]
    }
   ],
   "source": [
    "print(fruits)"
   ]
  },
  {
   "cell_type": "code",
   "execution_count": 31,
   "id": "aa515855-c8a3-4130-a83b-8e0deb8b3a43",
   "metadata": {},
   "outputs": [
    {
     "data": {
      "text/plain": [
       "['Apple', 'Banana', 'Mango', 'Cherry', 'watermelon', 'Custodapple']"
      ]
     },
     "execution_count": 31,
     "metadata": {},
     "output_type": "execute_result"
    }
   ],
   "source": [
    "fruits = [\"Apple\",\"Banana\",\"Mango\",\"Cherry\"]\n",
    "more_fruits = [\"watermelon\",\"Custodapple\"]\n",
    "fruits = fruits + more_fruits\n",
    "fruits"
   ]
  },
  {
   "cell_type": "code",
   "execution_count": 32,
   "id": "5672d77e-267f-401c-bbc3-3b7cf7e45db1",
   "metadata": {},
   "outputs": [
    {
     "data": {
      "text/plain": [
       "'Custodapple'"
      ]
     },
     "execution_count": 32,
     "metadata": {},
     "output_type": "execute_result"
    }
   ],
   "source": [
    "fruits.pop()"
   ]
  },
  {
   "cell_type": "code",
   "execution_count": 34,
   "id": "b5bcc509-eafb-42f4-a333-7e5daf461412",
   "metadata": {},
   "outputs": [],
   "source": [
    "fruits.remove(\"Mango\")"
   ]
  },
  {
   "cell_type": "code",
   "execution_count": 35,
   "id": "008db028-e330-42ae-b07e-f05ef01fc630",
   "metadata": {},
   "outputs": [
    {
     "data": {
      "text/plain": [
       "['Apple', 'Banana', 'Cherry', 'watermelon']"
      ]
     },
     "execution_count": 35,
     "metadata": {},
     "output_type": "execute_result"
    }
   ],
   "source": [
    "fruits"
   ]
  },
  {
   "cell_type": "code",
   "execution_count": 36,
   "id": "1ee679d6-0406-40b4-848f-6b02d3663830",
   "metadata": {},
   "outputs": [],
   "source": [
    "fruits.sort()"
   ]
  },
  {
   "cell_type": "code",
   "execution_count": 37,
   "id": "42010f68-2062-4866-a965-8fc8efdb4b3c",
   "metadata": {},
   "outputs": [
    {
     "data": {
      "text/plain": [
       "['Apple', 'Banana', 'Cherry', 'watermelon']"
      ]
     },
     "execution_count": 37,
     "metadata": {},
     "output_type": "execute_result"
    }
   ],
   "source": [
    "fruits"
   ]
  },
  {
   "cell_type": "code",
   "execution_count": 38,
   "id": "c249b8cf-b7bb-4827-b991-3be0abeba268",
   "metadata": {},
   "outputs": [
    {
     "data": {
      "text/plain": [
       "['Apple', 'Banana', 'Cherry', 'watermelon']"
      ]
     },
     "execution_count": 38,
     "metadata": {},
     "output_type": "execute_result"
    }
   ],
   "source": [
    "#copy list\n",
    "my_fruits = fruits   # soft copy\n",
    "my_fruits"
   ]
  },
  {
   "cell_type": "code",
   "execution_count": 39,
   "id": "bbd7a5b5-6744-4312-87d4-652fe475577e",
   "metadata": {},
   "outputs": [
    {
     "data": {
      "text/plain": [
       "['Apple', 'Banana', 'Mango', 'Cherry']"
      ]
     },
     "execution_count": 39,
     "metadata": {},
     "output_type": "execute_result"
    }
   ],
   "source": [
    "# Approch is \n",
    "fruits = [\"Apple\",\"Banana\",\"Mango\",\"Cherry\"]\n",
    "my_fruits = fruits.copy()   #Deep copy\n",
    "my_fruits"
   ]
  },
  {
   "cell_type": "code",
   "execution_count": 40,
   "id": "06225334-d4db-41c7-bd4a-0facc390babc",
   "metadata": {},
   "outputs": [
    {
     "name": "stdout",
     "output_type": "stream",
     "text": [
      "[10, 20, 30, 40, 50, 60]\n"
     ]
    }
   ],
   "source": [
    "list1= [10,20,30]\n",
    "list2= [40,50,60]\n",
    "list3 = list1 + list2   #concatinate the list\n",
    "print(list3)"
   ]
  },
  {
   "cell_type": "code",
   "execution_count": 41,
   "id": "f16a2377-7c9b-4c38-b2ad-d147d22bf4f8",
   "metadata": {},
   "outputs": [
    {
     "data": {
      "text/plain": [
       "[10, 20, 30, 10, 20, 30, 10, 20, 30]"
      ]
     },
     "execution_count": 41,
     "metadata": {},
     "output_type": "execute_result"
    }
   ],
   "source": [
    "list1 * 3"
   ]
  },
  {
   "cell_type": "code",
   "execution_count": 43,
   "id": "b5aa0af2-6fa9-40f4-8823-dbe025403b27",
   "metadata": {},
   "outputs": [
    {
     "name": "stdout",
     "output_type": "stream",
     "text": [
      "True\n",
      "True\n",
      "False\n",
      "False\n"
     ]
    }
   ],
   "source": [
    "print(list1 < list2)\n",
    "print(list1 != list3)\n",
    "print(list1 > list2 )\n",
    "print(list1 == list2)"
   ]
  },
  {
   "cell_type": "code",
   "execution_count": 44,
   "id": "438e5133-20cd-49f6-abce-92d74a783818",
   "metadata": {},
   "outputs": [
    {
     "name": "stdout",
     "output_type": "stream",
     "text": [
      "True\n",
      "False\n"
     ]
    }
   ],
   "source": [
    "list1 = [10,20,30]\n",
    "print(10 in list1)\n",
    "print(40 in list1)"
   ]
  },
  {
   "cell_type": "code",
   "execution_count": 45,
   "id": "2a320196-35f4-48b0-ab2c-9d0e4b237f1b",
   "metadata": {},
   "outputs": [
    {
     "name": "stdout",
     "output_type": "stream",
     "text": [
      "True\n"
     ]
    }
   ],
   "source": [
    "print(50 not in list1)"
   ]
  },
  {
   "cell_type": "code",
   "execution_count": 76,
   "id": "08dd9f17-b3ca-4859-bf02-143840b9bcbe",
   "metadata": {},
   "outputs": [
    {
     "name": "stdout",
     "output_type": "stream",
     "text": [
      "25,00,000.00\n"
     ]
    }
   ],
   "source": [
    "#4.In ERP , SAP or Oracle the number are stored in format 25.00.000,00. n\n",
    "#calculation Excel, SQL we use format 25,00,000.00.Question is how to convert the above data from SAP to Excel.\n",
    "number = \"25.00.000,00\"\n",
    "table = str.maketrans({\".\": \",\" , \",\" : \".\"})\n",
    "convert = number.translate(table)\n",
    "print(convert)\n"
   ]
  },
  {
   "cell_type": "code",
   "execution_count": 73,
   "id": "1f9685c0-17d9-4d6a-a6e9-2042eeaee342",
   "metadata": {},
   "outputs": [
    {
     "name": "stdout",
     "output_type": "stream",
     "text": [
      "25,00,000.00\n"
     ]
    }
   ],
   "source": [
    "number = \"25.00.000,00\"\n",
    "\n",
    "\n",
    "number = number.replace(\".\", \" \")\n",
    "number = number.replace(\",\", \".\")\n",
    "number = number.replace(\" \", \",\")\n",
    "\n",
    "print(number)"
   ]
  },
  {
   "cell_type": "code",
   "execution_count": 75,
   "id": "ed1fe4eb-a94e-471a-9814-4dd74cbb40fb",
   "metadata": {},
   "outputs": [
    {
     "name": "stdout",
     "output_type": "stream",
     "text": [
      "25,00,000.00\n"
     ]
    }
   ],
   "source": [
    "number = \"25.00.000,00\"\n",
    "table = str.maketrans({\".\": \",\", \",\": \".\"})\n",
    "convert = number.translate(table)\n",
    "print(convert) "
   ]
  },
  {
   "cell_type": "code",
   "execution_count": 68,
   "id": "0ddbdafc-81c0-4d3f-a6c9-668ad4904069",
   "metadata": {},
   "outputs": [
    {
     "name": "stdout",
     "output_type": "stream",
     "text": [
      "25,00,000.00\n"
     ]
    }
   ],
   "source": [
    "number = \"25.00.000,00\"\n",
    "number = number.replace(\".\" , \" \")\n",
    "number = number.replace(\",\" , \".\")\n",
    "number = number.replace(\" \" , \",\")\n",
    "print(number)"
   ]
  },
  {
   "cell_type": "code",
   "execution_count": 11,
   "id": "856fb6b4-a1c0-4a9c-9602-8a8d7db4b244",
   "metadata": {},
   "outputs": [
    {
     "name": "stdin",
     "output_type": "stream",
     "text": [
      "enter the character that you want bcbcbbvbvb\n"
     ]
    },
    {
     "name": "stdout",
     "output_type": "stream",
     "text": [
      "the vowels is present []\n"
     ]
    }
   ],
   "source": [
    "vowels = [ 'a', 'e','i','o','u']\n",
    "user = input(\"enter the character that you want\")\n",
    "vowels_user = []\n",
    "\n",
    "for character in user:\n",
    "    if character in vowels:\n",
    "        if character not in vowels_user :\n",
    "            vowels_user.append(character)\n",
    "print(\"the vowels is present\" , vowels_user);        \n",
    "            "
   ]
  },
  {
   "cell_type": "code",
   "execution_count": 8,
   "id": "94f03e9d-e8f7-4167-aa20-6f5e5821126b",
   "metadata": {},
   "outputs": [
    {
     "name": "stdout",
     "output_type": "stream",
     "text": [
      "['a', 'e', 'i', 'o', 'u']\n"
     ]
    }
   ],
   "source": [
    "print(vowels)"
   ]
  },
  {
   "cell_type": "code",
   "execution_count": 15,
   "id": "6f6b1176-7938-40dd-be10-78f5bc352443",
   "metadata": {},
   "outputs": [
    {
     "data": {
      "text/plain": [
       "['a', 'b', 'c', 'd', 'e']"
      ]
     },
     "execution_count": 15,
     "metadata": {},
     "output_type": "execute_result"
    }
   ],
   "source": [
    "#list comprehension\n",
    "\n",
    "fruits = ['a','b','c','d','e']\n",
    "list(fruit for fruit in fruits) "
   ]
  },
  {
   "cell_type": "code",
   "execution_count": 24,
   "id": "2125f1c5-7382-4c39-b0a5-f1a9f851e248",
   "metadata": {},
   "outputs": [
    {
     "data": {
      "text/plain": [
       "['A', 'B', 'C', 'D', 'E']"
      ]
     },
     "execution_count": 24,
     "metadata": {},
     "output_type": "execute_result"
    }
   ],
   "source": [
    "[fruit.upper() for fruit in fruits]"
   ]
  },
  {
   "cell_type": "code",
   "execution_count": 25,
   "id": "3e98ebf0-ebc6-4d98-a27b-8d200ac329cc",
   "metadata": {},
   "outputs": [
    {
     "name": "stdout",
     "output_type": "stream",
     "text": [
      "A\n",
      "B\n",
      "C\n",
      "D\n",
      "E\n"
     ]
    }
   ],
   "source": [
    "for fruit in fruits :\n",
    "     print(fruit.upper())"
   ]
  },
  {
   "cell_type": "code",
   "execution_count": 31,
   "id": "8bcaa9fd-6f4f-42de-8435-1142361dfef9",
   "metadata": {},
   "outputs": [
    {
     "name": "stdout",
     "output_type": "stream",
     "text": [
      "the even numbers are  [12, 22, 32, 42, 52, 62, 72, 82]\n",
      "the odd numbers are  [17, 27, 37, 47, 57, 67, 77]\n"
     ]
    }
   ],
   "source": [
    "numbers = list(range(12 ,87 , 5))\n",
    "\n",
    "even = [number for number in numbers if number%2==0]\n",
    "odd  = [number for number in numbers if number%2!=0]\n",
    "print (\"the even numbers are \" , even )\n",
    "print(\"the odd numbers are \" , odd)"
   ]
  },
  {
   "cell_type": "code",
   "execution_count": 27,
   "id": "44641ce1-e621-432d-95a6-2397b76f7b98",
   "metadata": {},
   "outputs": [
    {
     "name": "stdout",
     "output_type": "stream",
     "text": [
      "[12, 22, 32, 42, 52, 62, 72, 82]\n"
     ]
    }
   ],
   "source": [
    "print(even)"
   ]
  },
  {
   "cell_type": "code",
   "execution_count": 32,
   "id": "2c57a077-d423-48be-a90a-7ddf0beaa8f1",
   "metadata": {},
   "outputs": [
    {
     "name": "stdout",
     "output_type": "stream",
     "text": [
      "['ls', 'lt', 'lu', 'ld', 'ly', 'is', 'it', 'iu', 'id', 'iy', 'fs', 'ft', 'fu', 'fd', 'fy', 'es', 'et', 'eu', 'ed', 'ey']\n"
     ]
    }
   ],
   "source": [
    "combined = [ char1 + char2 for char1 in \"life\" for char2 in \"study\"]\n",
    "print(combined)"
   ]
  },
  {
   "cell_type": "code",
   "execution_count": 2,
   "id": "f24ab584-cc67-4354-a600-3beb81ee00be",
   "metadata": {},
   "outputs": [
    {
     "name": "stdout",
     "output_type": "stream",
     "text": [
      "[12, 'odd numbers', 18, 'odd numbers', 24, 'odd numbers', 30, 'odd numbers', 36, 'odd numbers', 42, 'odd numbers', 48, 'odd numbers', 54, 'odd numbers', 60, 'odd numbers', 66, 'odd numbers', 72, 'odd numbers', 78, 'odd numbers', 84]\n"
     ]
    }
   ],
   "source": [
    "number = list(range(12,87,3))\n",
    "even_numbers = [x if x%2==0 else \"odd numbers\" for x in number] \n",
    "print(even_numbers)"
   ]
  },
  {
   "cell_type": "code",
   "execution_count": 3,
   "id": "91d150c5-c3ba-4315-a4a6-4effe9e717cc",
   "metadata": {},
   "outputs": [
    {
     "name": "stdout",
     "output_type": "stream",
     "text": [
      "avrahta\n"
     ]
    }
   ],
   "source": [
    "a = \"atharva\"\n",
    "print(a[::-1])"
   ]
  },
  {
   "cell_type": "code",
   "execution_count": null,
   "id": "e8218a26-7aa9-4bc0-a5b1-39456aac070e",
   "metadata": {},
   "outputs": [],
   "source": []
  }
 ],
 "metadata": {
  "kernelspec": {
   "display_name": "Python 3 (ipykernel)",
   "language": "python",
   "name": "python3"
  },
  "language_info": {
   "codemirror_mode": {
    "name": "ipython",
    "version": 3
   },
   "file_extension": ".py",
   "mimetype": "text/x-python",
   "name": "python",
   "nbconvert_exporter": "python",
   "pygments_lexer": "ipython3",
   "version": "3.13.1"
  }
 },
 "nbformat": 4,
 "nbformat_minor": 5
}
